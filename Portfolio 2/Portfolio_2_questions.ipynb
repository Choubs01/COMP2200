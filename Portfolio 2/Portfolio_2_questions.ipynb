{
 "cells": [
  {
   "cell_type": "markdown",
   "id": "Z88FfJc9lA_T",
   "metadata": {
    "id": "Z88FfJc9lA_T"
   },
   "source": [
    "## Analysis of an E-commerce Dataset Part 2"
   ]
  },
  {
   "cell_type": "markdown",
   "id": "hoq0NwA9lA_V",
   "metadata": {
    "id": "hoq0NwA9lA_V"
   },
   "source": [
    "The goal of the second analysis task is to train linear regression models to predict users' ratings towards items. This involves a standard Data Science workflow: exploring data, building models, making predictions, and evaluating results. In this task, we will explore the impacts of feature selections and different sizes of training/testing data on the model performance. We will use another cleaned combined e-commerce sub-dataset that **is different from** the one in “Analysis of an E-commerce Dataset” task 1."
   ]
  },
  {
   "cell_type": "markdown",
   "id": "f9fd3NU_lA_W",
   "metadata": {
    "id": "f9fd3NU_lA_W"
   },
   "source": [
    "### Import Cleaned E-commerce Dataset\n",
    "The csv file named 'cleaned_ecommerce_dataset.csv' is provided. You may need to use the Pandas method, i.e., `read_csv`, for reading it. After that, please print out its total length."
   ]
  },
  {
   "cell_type": "code",
   "execution_count": 21,
   "id": "662defae-384a-4464-96e7-4dbf10423f09",
   "metadata": {},
   "outputs": [],
   "source": [
    "import pandas as pd\n",
    "from sklearn.preprocessing import OrdinalEncoder\n",
    "from sklearn.model_selection import train_test_split\n",
    "from sklearn.linear_model import LinearRegression\n",
    "from sklearn.metrics import mean_squared_error\n",
    "import matplotlib.pyplot as plt"
   ]
  },
  {
   "cell_type": "code",
   "execution_count": null,
   "id": "PJrb2gtAlA_W",
   "metadata": {
    "id": "PJrb2gtAlA_W"
   },
   "outputs": [],
   "source": [
    "# Read the CSV file\n",
    "df = pd.read_csv('cleaned_ecommerce_dataset.csv')\n",
    "\n",
    "# Print out the total length (number of rows) of the DataFrame\n",
    "total_length = len(df)\n",
    "print(\"Total length of the DataFrame:\", total_length)"
   ]
  },
  {
   "cell_type": "markdown",
   "id": "aqbuU6rglA_X",
   "metadata": {
    "id": "aqbuU6rglA_X"
   },
   "source": [
    "### Explore the Dataset\n",
    "\n",
    "* Use the methods, i.e., `head()` and `info()`, to have a rough picture about the data, e.g., how many columns, and the data types of each column.\n",
    "* As our goal is to predict ratings given other columns, please get the correlations between helpfulness/gender/category/review and rating by using the `corr()` method.\n",
    "* To get the correlations between different features, you may need to first convert the categorical features (i.e., gender, category and review) into numerial values. For doing this, you may need to import `OrdinalEncoder` from `sklearn.preprocessing` (refer to the useful exmaples [here](https://pbpython.com/categorical-encoding.html))\n",
    "* Please provide ___necessary explanations/analysis___ on the correlations, and figure out which are the ___most___ and ___least___ corrleated features regarding rating. Try to ___discuss___ how the correlation will affect the final prediction results, if we use these features to train a regression model for rating prediction. In what follows, we will conduct experiments to verify your hypothesis."
   ]
  },
  {
   "cell_type": "code",
   "execution_count": null,
   "id": "W3PImHiElA_X",
   "metadata": {
    "id": "W3PImHiElA_X"
   },
   "outputs": [],
   "source": [
    "df.head()"
   ]
  },
  {
   "cell_type": "code",
   "execution_count": 12,
   "id": "280817d3-c4ec-4823-b600-7c31d8fe6734",
   "metadata": {},
   "outputs": [
    {
     "name": "stdout",
     "output_type": "stream",
     "text": [
      "<class 'pandas.core.frame.DataFrame'>\n",
      "RangeIndex: 2685 entries, 0 to 2684\n",
      "Data columns (total 11 columns):\n",
      " #   Column       Non-Null Count  Dtype  \n",
      "---  ------       --------------  -----  \n",
      " 0   userId       2685 non-null   int64  \n",
      " 1   timestamp    2685 non-null   int64  \n",
      " 2   review       2685 non-null   object \n",
      " 3   item         2685 non-null   object \n",
      " 4   rating       2685 non-null   float64\n",
      " 5   helpfulness  2685 non-null   float64\n",
      " 6   gender       2685 non-null   object \n",
      " 7   category     2685 non-null   object \n",
      " 8   item_id      2685 non-null   int64  \n",
      " 9   item_price   2685 non-null   float64\n",
      " 10  user_city    2685 non-null   int64  \n",
      "dtypes: float64(3), int64(4), object(4)\n",
      "memory usage: 230.9+ KB\n"
     ]
    }
   ],
   "source": [
    "df.info()"
   ]
  },
  {
   "cell_type": "code",
   "execution_count": 13,
   "id": "5d35132d-4439-490f-bb80-f7711d2fadc2",
   "metadata": {},
   "outputs": [
    {
     "data": {
      "text/html": [
       "<div>\n",
       "<style scoped>\n",
       "    .dataframe tbody tr th:only-of-type {\n",
       "        vertical-align: middle;\n",
       "    }\n",
       "\n",
       "    .dataframe tbody tr th {\n",
       "        vertical-align: top;\n",
       "    }\n",
       "\n",
       "    .dataframe thead th {\n",
       "        text-align: right;\n",
       "    }\n",
       "</style>\n",
       "<table border=\"1\" class=\"dataframe\">\n",
       "  <thead>\n",
       "    <tr style=\"text-align: right;\">\n",
       "      <th></th>\n",
       "      <th>userId</th>\n",
       "      <th>timestamp</th>\n",
       "      <th>review</th>\n",
       "      <th>item</th>\n",
       "      <th>rating</th>\n",
       "      <th>helpfulness</th>\n",
       "      <th>gender</th>\n",
       "      <th>category</th>\n",
       "      <th>item_id</th>\n",
       "      <th>item_price</th>\n",
       "      <th>user_city</th>\n",
       "    </tr>\n",
       "  </thead>\n",
       "  <tbody>\n",
       "    <tr>\n",
       "      <th>0</th>\n",
       "      <td>4081</td>\n",
       "      <td>71900</td>\n",
       "      <td>1618.0</td>\n",
       "      <td>McDonald's</td>\n",
       "      <td>4.0</td>\n",
       "      <td>3.0</td>\n",
       "      <td>1.0</td>\n",
       "      <td>8.0</td>\n",
       "      <td>41</td>\n",
       "      <td>30.74</td>\n",
       "      <td>4</td>\n",
       "    </tr>\n",
       "    <tr>\n",
       "      <th>1</th>\n",
       "      <td>4081</td>\n",
       "      <td>72000</td>\n",
       "      <td>1125.0</td>\n",
       "      <td>Taco Bell</td>\n",
       "      <td>1.0</td>\n",
       "      <td>4.0</td>\n",
       "      <td>1.0</td>\n",
       "      <td>8.0</td>\n",
       "      <td>74</td>\n",
       "      <td>108.30</td>\n",
       "      <td>4</td>\n",
       "    </tr>\n",
       "    <tr>\n",
       "      <th>2</th>\n",
       "      <td>4081</td>\n",
       "      <td>72000</td>\n",
       "      <td>2185.0</td>\n",
       "      <td>Wendy's</td>\n",
       "      <td>5.0</td>\n",
       "      <td>4.0</td>\n",
       "      <td>1.0</td>\n",
       "      <td>8.0</td>\n",
       "      <td>84</td>\n",
       "      <td>69.00</td>\n",
       "      <td>4</td>\n",
       "    </tr>\n",
       "    <tr>\n",
       "      <th>3</th>\n",
       "      <td>4081</td>\n",
       "      <td>100399</td>\n",
       "      <td>2243.0</td>\n",
       "      <td>South Park: Bigger, Longer &amp; Uncut</td>\n",
       "      <td>5.0</td>\n",
       "      <td>3.0</td>\n",
       "      <td>1.0</td>\n",
       "      <td>5.0</td>\n",
       "      <td>68</td>\n",
       "      <td>143.11</td>\n",
       "      <td>4</td>\n",
       "    </tr>\n",
       "    <tr>\n",
       "      <th>4</th>\n",
       "      <td>4081</td>\n",
       "      <td>100399</td>\n",
       "      <td>1033.0</td>\n",
       "      <td>American Pie</td>\n",
       "      <td>3.0</td>\n",
       "      <td>3.0</td>\n",
       "      <td>1.0</td>\n",
       "      <td>5.0</td>\n",
       "      <td>6</td>\n",
       "      <td>117.89</td>\n",
       "      <td>4</td>\n",
       "    </tr>\n",
       "  </tbody>\n",
       "</table>\n",
       "</div>"
      ],
      "text/plain": [
       "   userId  timestamp  review                                item  rating  \\\n",
       "0    4081      71900  1618.0                          McDonald's     4.0   \n",
       "1    4081      72000  1125.0                           Taco Bell     1.0   \n",
       "2    4081      72000  2185.0                             Wendy's     5.0   \n",
       "3    4081     100399  2243.0  South Park: Bigger, Longer & Uncut     5.0   \n",
       "4    4081     100399  1033.0                        American Pie     3.0   \n",
       "\n",
       "   helpfulness  gender  category  item_id  item_price  user_city  \n",
       "0          3.0     1.0       8.0       41       30.74          4  \n",
       "1          4.0     1.0       8.0       74      108.30          4  \n",
       "2          4.0     1.0       8.0       84       69.00          4  \n",
       "3          3.0     1.0       5.0       68      143.11          4  \n",
       "4          3.0     1.0       5.0        6      117.89          4  "
      ]
     },
     "execution_count": 13,
     "metadata": {},
     "output_type": "execute_result"
    }
   ],
   "source": [
    "# Initialize the encoder\n",
    "encoder = OrdinalEncoder()\n",
    "\n",
    "# Columns to encode\n",
    "cols_to_encode = ['gender', 'category', 'review']\n",
    "\n",
    "# Apply the encoder to the columns\n",
    "df_encoded = df.copy()\n",
    "df_encoded[cols_to_encode] = encoder.fit_transform(df[cols_to_encode])\n",
    "\n",
    "# Display the first few rows of the encoded dataset\n",
    "df_encoded.head()"
   ]
  },
  {
   "cell_type": "code",
   "execution_count": 14,
   "id": "b89ef19b-a3ca-41de-a507-f57d2c02f95b",
   "metadata": {},
   "outputs": [
    {
     "data": {
      "text/plain": [
       "helpfulness   -0.007523\n",
       "gender        -0.034337\n",
       "category      -0.163158\n",
       "review        -0.036118\n",
       "Name: rating, dtype: float64"
      ]
     },
     "execution_count": 14,
     "metadata": {},
     "output_type": "execute_result"
    }
   ],
   "source": [
    "# Calculate the correlation with the 'rating' column\n",
    "correlations = df_encoded[['helpfulness', 'gender', 'category', 'review', 'rating']].corr()['rating'].drop('rating')\n",
    "\n",
    "correlations"
   ]
  },
  {
   "cell_type": "markdown",
   "id": "a9447667-4f62-462e-872a-df049b487948",
   "metadata": {},
   "source": [
    "Upon looking at the correlation between rating and other categories, we see category has the greatest correlation with ratings at -0.16. The other categories do not do as well, falling closer to 0. Review and gender have similar ratings yet the correlation is very weak, and the correlation of helpfulness is almost negligible. \n",
    "\n",
    "Since cateory has the greatest correlation it will be the most useful at predicting the ratings in the model. Nonetheless its correlation is low, and the other features will have even less of an effect. If we do use these featues, we should be cautious of introducing noise to the model."
   ]
  },
  {
   "cell_type": "markdown",
   "id": "4myP5igslA_Y",
   "metadata": {
    "id": "4myP5igslA_Y"
   },
   "source": [
    "### Split Training and Testing Data\n",
    "* Machine learning models are trained to help make predictions for the future. Normally, we need to randomly split the dataset into training and testing sets, where we use the training set to train the model, and then leverage the well-trained model to make predictions on the testing set.\n",
    "* To further investigate whether the size of the training/testing data affects the model performance, please random split the data into training and testing sets with different sizes:\n",
    "    * Case 1: training data containing 10% of the entire data;\n",
    "    * Case 2: training data containing 90% of the entire data.\n",
    "* Print the shape of training and testing sets in the two cases."
   ]
  },
  {
   "cell_type": "code",
   "execution_count": 15,
   "id": "dd4caf30-b8f3-466a-a6b4-b1be2fec5c17",
   "metadata": {
    "id": "JIDMig9blA_Y"
   },
   "outputs": [
    {
     "data": {
      "text/plain": [
       "{'Case 1 (10% Training Data)': {'Training': (268, 11), 'Testing': (2417, 11)},\n",
       " 'Case 2 (90% Training Data)': {'Training': (2416, 11), 'Testing': (269, 11)}}"
      ]
     },
     "execution_count": 15,
     "metadata": {},
     "output_type": "execute_result"
    }
   ],
   "source": [
    "# Split the data for Case 1 (10% training data)\n",
    "train_data_10, test_data_10 = train_test_split(df_encoded, test_size=0.9, random_state=42)\n",
    "\n",
    "# Split the data for Case 2 (90% training data)\n",
    "train_data_90, test_data_90 = train_test_split(df_encoded, test_size=0.1, random_state=42)\n",
    "\n",
    "# Print the shape of training and testing sets in the two cases\n",
    "shapes = {\n",
    "    \"Case 1 (10% Training Data)\": {\"Training\": train_data_10.shape, \"Testing\": test_data_10.shape},\n",
    "    \"Case 2 (90% Training Data)\": {\"Training\": train_data_90.shape, \"Testing\": test_data_90.shape}\n",
    "}\n",
    "\n",
    "shapes"
   ]
  },
  {
   "cell_type": "markdown",
   "id": "515bea77-50b5-464b-8309-4a69d0edd718",
   "metadata": {},
   "source": [
    "As you'd expect, the two cases of training sets have inverted training and testing sizes. In Case 2, there's a large training set and a small testing set. This would probably lead to a better-trained model due to more training data, but we'll have fewer data points to evaluate its generalization performance. On the other hand, case 1 has a small training set and a large testing set. This can be useful for scenarios where we have limited labeled data for training but want to validate the model's performance on a larger unseen set."
   ]
  },
  {
   "cell_type": "markdown",
   "id": "DjSsgT0BlA_Y",
   "metadata": {
    "id": "DjSsgT0BlA_Y"
   },
   "source": [
    "### Train Linear Regression Models with Feature Selection under Cases 1 & 2\n",
    "* When training a machine learning model for prediction, we may need to select the most important/correlated input features for more accurate results.\n",
    "* To investigate whether feature selection affects the model performance, please select two most correlated features and two least correlated features regarding rating, respectively.\n",
    "* Train four linear regression models by following the conditions:\n",
    "    - (model-a) using the training/testing data in case 1 with two most correlated input features\n",
    "    - (model-b) using the training/testing data in case 1 with two least correlated input features\n",
    "    - (model-c) using the training/testing data in case 2 with two most correlated input features\n",
    "    - (model-d) using the training/testing data in case 2 with two least correlated input features\n",
    "* By doing this, we can verify the impacts of the size of traing/testing data on the model performance via comparing model-a and model-c (or model-b and model-d); meanwhile the impacts of feature selection can be validated via comparing model-a and model-b (or model-c and model-d).    "
   ]
  },
  {
   "cell_type": "code",
   "execution_count": 16,
   "id": "DASzPUATlA_Z",
   "metadata": {
    "id": "DASzPUATlA_Z"
   },
   "outputs": [
    {
     "data": {
      "text/plain": [
       "(['category', 'review'], ['helpfulness', 'gender'])"
      ]
     },
     "execution_count": 16,
     "metadata": {},
     "output_type": "execute_result"
    }
   ],
   "source": [
    "# Identify the two most and least correlated features\n",
    "most_correlated = correlations.abs().nlargest(2).index.tolist()\n",
    "least_correlated = correlations.abs().nsmallest(2).index.tolist()\n",
    "\n",
    "most_correlated, least_correlated"
   ]
  },
  {
   "cell_type": "code",
   "execution_count": 17,
   "id": "e0f492f6-17b0-4d39-89c7-b2bbe277121f",
   "metadata": {},
   "outputs": [],
   "source": [
    "# Initialize the linear regression model\n",
    "lr = LinearRegression()\n",
    "\n",
    "# Define a function to train and get the RMSE for a model\n",
    "def train_model(train_data, features):\n",
    "    X_train = train_data[features]\n",
    "    y_train = train_data['rating']\n",
    "    \n",
    "    # Train the model\n",
    "    model = LinearRegression().fit(X_train, y_train)\n",
    "    \n",
    "    return model\n",
    "\n",
    "# Train models \n",
    "model_a = train_model(train_data_10, most_correlated),\n",
    "model_b = train_model(train_data_10, least_correlated),\n",
    "model_c = train_model(train_data_90, most_correlated),\n",
    "model_d = train_model(train_data_90, least_correlated)"
   ]
  },
  {
   "cell_type": "markdown",
   "id": "KATSn7hYlA_Z",
   "metadata": {
    "id": "KATSn7hYlA_Z"
   },
   "source": [
    "### Evaluate Models\n",
    "* Evaluate the performance of the four models with two metrics, including MSE and Root MSE\n",
    "* Print the results of the four models regarding the two metrics"
   ]
  },
  {
   "cell_type": "code",
   "execution_count": 18,
   "id": "4fU8GPS9lA_Z",
   "metadata": {
    "id": "4fU8GPS9lA_Z"
   },
   "outputs": [
    {
     "data": {
      "text/html": [
       "<div>\n",
       "<style scoped>\n",
       "    .dataframe tbody tr th:only-of-type {\n",
       "        vertical-align: middle;\n",
       "    }\n",
       "\n",
       "    .dataframe tbody tr th {\n",
       "        vertical-align: top;\n",
       "    }\n",
       "\n",
       "    .dataframe thead th {\n",
       "        text-align: right;\n",
       "    }\n",
       "</style>\n",
       "<table border=\"1\" class=\"dataframe\">\n",
       "  <thead>\n",
       "    <tr style=\"text-align: right;\">\n",
       "      <th></th>\n",
       "      <th>MSE</th>\n",
       "      <th>RMSE</th>\n",
       "    </tr>\n",
       "  </thead>\n",
       "  <tbody>\n",
       "    <tr>\n",
       "      <th>Model-a (10% data, most correlated)</th>\n",
       "      <td>1.776581</td>\n",
       "      <td>1.332885</td>\n",
       "    </tr>\n",
       "    <tr>\n",
       "      <th>Model-b (10% data, least correlated)</th>\n",
       "      <td>1.860536</td>\n",
       "      <td>1.364015</td>\n",
       "    </tr>\n",
       "    <tr>\n",
       "      <th>Model-c (90% data, most correlated)</th>\n",
       "      <td>1.681993</td>\n",
       "      <td>1.296917</td>\n",
       "    </tr>\n",
       "    <tr>\n",
       "      <th>Model-d (90% data, least correlated)</th>\n",
       "      <td>1.724538</td>\n",
       "      <td>1.313216</td>\n",
       "    </tr>\n",
       "  </tbody>\n",
       "</table>\n",
       "</div>"
      ],
      "text/plain": [
       "                                           MSE      RMSE\n",
       "Model-a (10% data, most correlated)   1.776581  1.332885\n",
       "Model-b (10% data, least correlated)  1.860536  1.364015\n",
       "Model-c (90% data, most correlated)   1.681993  1.296917\n",
       "Model-d (90% data, least correlated)  1.724538  1.313216"
      ]
     },
     "execution_count": 18,
     "metadata": {},
     "output_type": "execute_result"
    }
   ],
   "source": [
    "# Define a function to evaluate the model and get MSE and RMSE\n",
    "def evaluate_model(train_data, test_data, features):\n",
    "    X_train = train_data[features]\n",
    "    y_train = train_data['rating']\n",
    "    \n",
    "    X_test = test_data[features]\n",
    "    y_test = test_data['rating']\n",
    "    \n",
    "    # Train the model\n",
    "    lr.fit(X_train, y_train)\n",
    "    \n",
    "    # Make predictions\n",
    "    predictions = lr.predict(X_test)\n",
    "    \n",
    "    # Calculate MSE and RMSE\n",
    "    mse = mean_squared_error(y_test, predictions)\n",
    "    rmse = mean_squared_error(y_test, predictions, squared=False)\n",
    "    \n",
    "    return mse, rmse\n",
    "\n",
    "# Evaluate models and get their MSE and RMSE\n",
    "evaluation_results = {\n",
    "    \"Model-a (10% data, most correlated)\": evaluate_model(train_data_10, test_data_10, most_correlated),\n",
    "    \"Model-b (10% data, least correlated)\": evaluate_model(train_data_10, test_data_10, least_correlated),\n",
    "    \"Model-c (90% data, most correlated)\": evaluate_model(train_data_90, test_data_90, most_correlated),\n",
    "    \"Model-d (90% data, least correlated)\": evaluate_model(train_data_90, test_data_90, least_correlated)\n",
    "}\n",
    "\n",
    "evaluation_df = pd.DataFrame(evaluation_results, index=[\"MSE\", \"RMSE\"]).T\n",
    "evaluation_df\n"
   ]
  },
  {
   "cell_type": "markdown",
   "id": "Y9jx-eY6lA_a",
   "metadata": {
    "id": "Y9jx-eY6lA_a"
   },
   "source": [
    "### Visualize, Compare and Analyze the Results\n",
    "* Visulize the results, and perform ___insightful analysis___ on the obtained results. For better visualization, you may need to carefully set the scale for the y-axis.\n",
    "* Normally, the model trained with most correlated features and more training data will get better results. Do you obtain the similar observations? If not, please ___explain the possible reasons___."
   ]
  },
  {
   "cell_type": "code",
   "execution_count": 27,
   "id": "3TNAIGDilA_a",
   "metadata": {
    "id": "3TNAIGDilA_a"
   },
   "outputs": [
    {
     "data": {
      "image/png": "[encoded data removed]",
      "text/plain": [
       "<Figure size 1000x1000 with 2 Axes>"
      ]
     },
     "metadata": {},
     "output_type": "display_data"
    }
   ],
   "source": [
    "# Create the evaluation_df dataframe\n",
    "data = {\n",
    "    'MSE': [1.776581, 1.860536, 1.681993, 1.724538],\n",
    "    'RMSE': [1.332885, 1.364015, 1.296917, 1.313216]\n",
    "}\n",
    "index = [\n",
    "    'Model-a ',\n",
    "    'Model-b ',\n",
    "    'Model-c ',\n",
    "    'Model-d '\n",
    "]\n",
    "evaluation_df = pd.DataFrame(data, index=index)\n",
    "\n",
    "# Plotting\n",
    "fig, axes = plt.subplots(2, 1, figsize=(10, 10))\n",
    "\n",
    "evaluation_df['MSE'].plot(kind='bar', ax=axes[0], color='skyblue', title='MSE for Different Models')\n",
    "evaluation_df['RMSE'].plot(kind='bar', ax=axes[1], color='salmon', title='RMSE for Different Models')\n",
    "\n",
    "for ax in axes:\n",
    "    ax.set_ylabel('Value')\n",
    "    ax.set_xlabel('Model')\n",
    "    ax.grid(axis='y')\n",
    "    for p in ax.patches:\n",
    "        ax.annotate(f'{p.get_height():.2f}', (p.get_x() + p.get_width() / 2., p.get_height() + 0.02),\n",
    "                    ha='center', va='center', xytext=(0, 10), textcoords='offset points')\n",
    "\n",
    "plt.tight_layout()\n",
    "plt.show()\n"
   ]
  },
  {
   "cell_type": "markdown",
   "id": "b312553e-adbd-4fae-9d69-6eda5d5be156",
   "metadata": {},
   "source": [
    "For models trained on 10% of the data, Model A performed better than Model B. This is as expected. For models trained on 90% of the data, Model C performs better Model D. Again, this is as expected. We expect the models with the more correlated features to perform better than the ones with less correlated features. \n",
    "\n",
    "Comparing models based on the amount of training data:\n",
    "Model-c (90% data, most correlated) performs better than Model-a (10% data, most correlated). However, interestingly, Model-d (90% data, least correlated) performs slightly worse than Model-a (10% data, most correlated) in terms of MSE, but better in terms of RMSE.\n",
    "\n",
    "Observations:\n",
    "Using more training data with the most correlated features (Model-c) indeed yields the best results, as expected.\n",
    "Surprisingly, Model-a, which uses only 10% of the data but the most correlated features, performs comparably to Model-d, which uses 90% of the data with the least correlated features. This suggests the significant impact of feature correlation on model performance, even when a smaller dataset is used.\n",
    "\n",
    "Possible Reasons for the Unexpected Observation:\n",
    "\n",
    "Quality vs. Quantity: Even if Model-a uses just 10% of the data, the high correlation of the features could have provided more meaningful information to the model compared to the less correlated features used by Model-d, even if Model-d had access to a larger dataset.\n",
    "\n",
    "Noise in Data: The 90% dataset used by Model-d might have had more noise or irrelevant information due to the inclusion of less correlated features, which could have affected the model's ability to generalize well.\n",
    "\n",
    "Overfitting: Model-d, having more data with less correlated features, might have overfitted to the noise in the data, leading to sub-optimal performance.\n",
    "\n",
    "Model Complexity: If the model's complexity isn't adjusted based on the data and features, it might not be able to capture the underlying patterns effectively. For instance, a complex model might overfit to a smaller dataset, while a simple model might not capture all nuances in a larger dataset.\n",
    "\n",
    "Feature Interactions: Sometimes, even less correlated features can have complex interactions that might be beneficial for the model. If these interactions aren't captured well, it might affect the performance.\n",
    "\n",
    "In conclusion, while having more data is generally advantageous, the quality of the data and the relevance of the features play a crucial role in determining the performance of the model."
   ]
  }
 ],
 "metadata": {
  "colab": {
   "provenance": []
  },
  "kernelspec": {
   "display_name": "Python 3 (ipykernel)",
   "language": "python",
   "name": "python3"
  },
  "language_info": {
   "codemirror_mode": {
    "name": "ipython",
    "version": 3
   },
   "file_extension": ".py",
   "mimetype": "text/x-python",
   "name": "python",
   "nbconvert_exporter": "python",
   "pygments_lexer": "ipython3",
   "version": "3.10.2"
  }
 },
 "nbformat": 4,
 "nbformat_minor": 5
}
